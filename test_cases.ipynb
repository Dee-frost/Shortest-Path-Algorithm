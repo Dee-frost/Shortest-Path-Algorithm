{
 "cells": [
  {
   "cell_type": "code",
   "execution_count": 2,
   "id": "70909887",
   "metadata": {},
   "outputs": [
    {
     "name": "stdout",
     "output_type": "stream",
     "text": [
      "Running Dijkstra\n",
      "Running Bi-directional DIjkstra\n",
      "[38, 59, 29, 76, 30, 70, 53, 59, 51]\n",
      "Marks in Dijkstra: 0\n",
      "Marks in Bidirectional-Dijkstra: 4\n",
      "Avg Runtime in seconds for Dijkstra: 1\n",
      "Final Score: 4\n"
     ]
    }
   ],
   "source": [
    "\"\"\"\n",
    "Testcases for Dijkstra and Bi-directional dijkstra\n",
    "\"\"\"\n",
    "from time import time\n",
    "\n",
    "\n",
    "def evaluate_dijkstra(sample_input1):\n",
    "    marks = 0\n",
    "    avg_runtime = 1\n",
    "    graph_object = None\n",
    "    try:\n",
    "        from dijkstra_sp import Dij_generator, dijkstra\n",
    "        graph_object = Dij_generator()\n",
    "        start_time = time()\n",
    "        candidate_output = [round(Q1_dijkstra(source, destination, graph_object)) for source, destination in sample_input1]\n",
    "        avg_runtime = avg_runtime + (time() - start_time) / len(sample_input1)\n",
    "        print(candidate_output)\n",
    "        if candidate_output == output_shortest_path:\n",
    "            marks = marksQ1\n",
    "    except:\n",
    "        pass\n",
    "    return marks, graph_object, avg_runtime\n",
    "\n",
    "\n",
    "def evaluate_bidirectional_dijkstra(sample_input1, graph_object):\n",
    "    marks = 0\n",
    "    try:\n",
    "        from bidirectional_dijkstra import bidirectional_dij\n",
    "        candidate_output = [round(bidirectional_dij(source, destination, graph_object)) for source, destination in sample_input1]\n",
    "        print(candidate_output)\n",
    "        if candidate_output == output_shortest_path:\n",
    "            marks = marksQ3\n",
    "    except:\n",
    "        pass\n",
    "    return marks\n",
    "\n",
    "\n",
    "\n",
    "def main():\n",
    "    print(\"Running Dijkstra\")\n",
    "    marks1, graph_object, avg_runtime = evaluate_dijkstra(input_shortest_path)\n",
    "    print(\"Running Bi-directional DIjkstra\")\n",
    "    marks2 = evaluate_bidirectional_dijkstra(input_shortest_path, graph_object)\n",
    "    \n",
    "    total = marks1 + marks2 \n",
    "    print(f\"Marks in Dijkstra: {marks1}\")\n",
    "    print(f\"Marks in Bidirectional-Dijkstra: {marks2}\")\n",
    "    print(f\"Avg Runtime in seconds for Dijkstra: {avg_runtime}\")\n",
    "    print(f\"Final Score: {total}\")\n",
    "    return marks1, marks2, total, avg_runtime\n",
    "\n",
    "\n",
    "if __name__ == \"__main__\":\n",
    "    input_shortest_path = [(253, 127), (139, 305), (148, 99), (363, 134), (778, 396), (650, 759), (724, 547), (788, 412),(105,1)]\n",
    "    output_shortest_path = [38, 59, 29, 76, 30, 70, 53, 59,51]\n",
    "    marksQ1, marksQ2, marksQ3 = 2, 4, 4\n",
    "    main()"
   ]
  },
  {
   "cell_type": "code",
   "execution_count": null,
   "id": "9a357823",
   "metadata": {},
   "outputs": [],
   "source": []
  }
 ],
 "metadata": {
  "kernelspec": {
   "display_name": "Python 3 (ipykernel)",
   "language": "python",
   "name": "python3"
  },
  "language_info": {
   "codemirror_mode": {
    "name": "ipython",
    "version": 3
   },
   "file_extension": ".py",
   "mimetype": "text/x-python",
   "name": "python",
   "nbconvert_exporter": "python",
   "pygments_lexer": "ipython3",
   "version": "3.10.9"
  }
 },
 "nbformat": 4,
 "nbformat_minor": 5
}
